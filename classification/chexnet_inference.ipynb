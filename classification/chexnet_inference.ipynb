{
 "cells": [
  {
   "cell_type": "code",
   "execution_count": 1,
   "metadata": {},
   "outputs": [
    {
     "name": "stdout",
     "output_type": "stream",
     "text": [
      "/media/HHD_2TB/baurai/aditya_vm/bin/python3.6\n"
     ]
    }
   ],
   "source": [
    "import sys\n",
    "print(sys.executable)"
   ]
  },
  {
   "cell_type": "code",
   "execution_count": 2,
   "metadata": {},
   "outputs": [
    {
     "name": "stdout",
     "output_type": "stream",
     "text": [
      "Python used =  3.6.9 (default, Oct  9 2020, 08:58:16) \n",
      "[GCC 6.3.0 20170516]\n",
      "Tensorflow used =  2.3.1\n"
     ]
    }
   ],
   "source": [
    "import os\n",
    "\n",
    "import numpy as np\n",
    "import pandas as pd\n",
    "import matplotlib.pyplot as plt\n",
    "%matplotlib inline\n",
    "import seaborn as sns\n",
    "from sklearn.model_selection import StratifiedShuffleSplit\n",
    "from sklearn.metrics import  confusion_matrix, f1_score, precision_score, recall_score, classification_report\n",
    "from tqdm.notebook import tqdm\n",
    "\n",
    "import tensorflow as tf\n",
    "\n",
    "print(\"Python used = \", sys.version)\n",
    "print(\"Tensorflow used = \", tf.__version__)"
   ]
  },
  {
   "cell_type": "code",
   "execution_count": 3,
   "metadata": {},
   "outputs": [
    {
     "name": "stdout",
     "output_type": "stream",
     "text": [
      "(34115, 5)\n"
     ]
    }
   ],
   "source": [
    "val = pd.DataFrame(pd.read_csv(\"/media/HHD_2TB/baurai/chexnet/dataset/val.csv\"))\n",
    "print(val.shape)"
   ]
  },
  {
   "cell_type": "code",
   "execution_count": 4,
   "metadata": {},
   "outputs": [
    {
     "data": {
      "text/html": [
       "<div>\n",
       "<style scoped>\n",
       "    .dataframe tbody tr th:only-of-type {\n",
       "        vertical-align: middle;\n",
       "    }\n",
       "\n",
       "    .dataframe tbody tr th {\n",
       "        vertical-align: top;\n",
       "    }\n",
       "\n",
       "    .dataframe thead th {\n",
       "        text-align: right;\n",
       "    }\n",
       "</style>\n",
       "<table border=\"1\" class=\"dataframe\">\n",
       "  <thead>\n",
       "    <tr style=\"text-align: right;\">\n",
       "      <th></th>\n",
       "      <th>image_name</th>\n",
       "      <th>image_path</th>\n",
       "      <th>label</th>\n",
       "      <th>label_name</th>\n",
       "      <th>contributed_via</th>\n",
       "    </tr>\n",
       "  </thead>\n",
       "  <tbody>\n",
       "    <tr>\n",
       "      <th>0</th>\n",
       "      <td>00022520_002.png</td>\n",
       "      <td>/media/HHD2/NIH/tflow_obj_detection/images/000...</td>\n",
       "      <td>0</td>\n",
       "      <td>others</td>\n",
       "      <td>NIH</td>\n",
       "    </tr>\n",
       "    <tr>\n",
       "      <th>1</th>\n",
       "      <td>00022520_003.png</td>\n",
       "      <td>/media/HHD2/NIH/tflow_obj_detection/images/000...</td>\n",
       "      <td>1</td>\n",
       "      <td>nodule_mass</td>\n",
       "      <td>NIH</td>\n",
       "    </tr>\n",
       "    <tr>\n",
       "      <th>2</th>\n",
       "      <td>00022520_000.png</td>\n",
       "      <td>/media/HHD2/NIH/tflow_obj_detection/images/000...</td>\n",
       "      <td>1</td>\n",
       "      <td>nodule_mass</td>\n",
       "      <td>NIH</td>\n",
       "    </tr>\n",
       "    <tr>\n",
       "      <th>3</th>\n",
       "      <td>00022520_001.png</td>\n",
       "      <td>/media/HHD2/NIH/tflow_obj_detection/images/000...</td>\n",
       "      <td>1</td>\n",
       "      <td>nodule_mass</td>\n",
       "      <td>NIH</td>\n",
       "    </tr>\n",
       "    <tr>\n",
       "      <th>4</th>\n",
       "      <td>00004801_000.png</td>\n",
       "      <td>/media/HHD2/NIH/tflow_obj_detection/images/000...</td>\n",
       "      <td>0</td>\n",
       "      <td>others</td>\n",
       "      <td>NIH</td>\n",
       "    </tr>\n",
       "  </tbody>\n",
       "</table>\n",
       "</div>"
      ],
      "text/plain": [
       "         image_name                                         image_path  label  \\\n",
       "0  00022520_002.png  /media/HHD2/NIH/tflow_obj_detection/images/000...      0   \n",
       "1  00022520_003.png  /media/HHD2/NIH/tflow_obj_detection/images/000...      1   \n",
       "2  00022520_000.png  /media/HHD2/NIH/tflow_obj_detection/images/000...      1   \n",
       "3  00022520_001.png  /media/HHD2/NIH/tflow_obj_detection/images/000...      1   \n",
       "4  00004801_000.png  /media/HHD2/NIH/tflow_obj_detection/images/000...      0   \n",
       "\n",
       "    label_name contributed_via  \n",
       "0       others             NIH  \n",
       "1  nodule_mass             NIH  \n",
       "2  nodule_mass             NIH  \n",
       "3  nodule_mass             NIH  \n",
       "4       others             NIH  "
      ]
     },
     "execution_count": 4,
     "metadata": {},
     "output_type": "execute_result"
    }
   ],
   "source": [
    "val.head()"
   ]
  },
  {
   "cell_type": "code",
   "execution_count": 5,
   "metadata": {},
   "outputs": [
    {
     "name": "stdout",
     "output_type": "stream",
     "text": [
      "<class 'pandas.core.frame.DataFrame'>\n",
      "RangeIndex: 34115 entries, 0 to 34114\n",
      "Data columns (total 5 columns):\n",
      " #   Column           Non-Null Count  Dtype \n",
      "---  ------           --------------  ----- \n",
      " 0   image_name       34115 non-null  object\n",
      " 1   image_path       34115 non-null  object\n",
      " 2   label            34115 non-null  int64 \n",
      " 3   label_name       34115 non-null  object\n",
      " 4   contributed_via  34115 non-null  object\n",
      "dtypes: int64(1), object(4)\n",
      "memory usage: 1.3+ MB\n"
     ]
    }
   ],
   "source": [
    "val.info()"
   ]
  },
  {
   "cell_type": "code",
   "execution_count": 6,
   "metadata": {},
   "outputs": [],
   "source": [
    "val['label'] = val['label'].astype('str')"
   ]
  },
  {
   "cell_type": "code",
   "execution_count": 8,
   "metadata": {},
   "outputs": [
    {
     "name": "stdout",
     "output_type": "stream",
     "text": [
      "<class 'pandas.core.frame.DataFrame'>\n",
      "RangeIndex: 34115 entries, 0 to 34114\n",
      "Data columns (total 5 columns):\n",
      " #   Column           Non-Null Count  Dtype \n",
      "---  ------           --------------  ----- \n",
      " 0   image_name       34115 non-null  object\n",
      " 1   image_path       34115 non-null  object\n",
      " 2   label            34115 non-null  object\n",
      " 3   label_name       34115 non-null  object\n",
      " 4   contributed_via  34115 non-null  object\n",
      "dtypes: object(5)\n",
      "memory usage: 1.3+ MB\n"
     ]
    },
    {
     "data": {
      "text/plain": [
       "(None, (34115, 5))"
      ]
     },
     "execution_count": 8,
     "metadata": {},
     "output_type": "execute_result"
    }
   ],
   "source": [
    "val.info(), val.shape"
   ]
  },
  {
   "cell_type": "code",
   "execution_count": 10,
   "metadata": {},
   "outputs": [],
   "source": [
    "config = {\n",
    "    \"BATCH_SIZE\" : 32,\n",
    "    \"IMAGE_SIZE\" : [224, 224]\n",
    "}"
   ]
  },
  {
   "cell_type": "code",
   "execution_count": 11,
   "metadata": {},
   "outputs": [
    {
     "name": "stdout",
     "output_type": "stream",
     "text": [
      "Steps VAL =  1067\n"
     ]
    }
   ],
   "source": [
    "STEPS_VAL = int(np.ceil(val.shape[0] /config[\"BATCH_SIZE\"]))\n",
    "print(\"Steps VAL = \", STEPS_VAL)"
   ]
  },
  {
   "cell_type": "code",
   "execution_count": 12,
   "metadata": {},
   "outputs": [
    {
     "data": {
      "text/plain": [
       "{'BATCH_SIZE': 32, 'IMAGE_SIZE': [224, 224], 'STEPS_VAL': 1067}"
      ]
     },
     "execution_count": 12,
     "metadata": {},
     "output_type": "execute_result"
    }
   ],
   "source": [
    "config[\"STEPS_VAL\"] = STEPS_VAL\n",
    "config"
   ]
  },
  {
   "cell_type": "markdown",
   "metadata": {},
   "source": [
    "Model is saved at : /media/HHD_2TB/baurai/chexnet/saved_models/my_chexnet_model"
   ]
  },
  {
   "cell_type": "code",
   "execution_count": 13,
   "metadata": {},
   "outputs": [
    {
     "name": "stdout",
     "output_type": "stream",
     "text": [
      "Found 34115 validated image filenames belonging to 2 classes.\n"
     ]
    }
   ],
   "source": [
    "datagen = tf.keras.preprocessing.image.ImageDataGenerator(rescale = 1/255.0, preprocessing_function = None)\n",
    "val = datagen.flow_from_dataframe(dataframe = val, x_col = \"image_path\", y_col = \"label\",\n",
    "                                  batch_size = config[\"BATCH_SIZE\"], class_mode = \"binary\",\n",
    "                                  target_size = config[\"IMAGE_SIZE\"], shuffle = False)"
   ]
  },
  {
   "cell_type": "code",
   "execution_count": 14,
   "metadata": {},
   "outputs": [
    {
     "name": "stdout",
     "output_type": "stream",
     "text": [
      "[PhysicalDevice(name='/physical_device:GPU:0', device_type='GPU')]\n",
      "Mixed precision available\n"
     ]
    }
   ],
   "source": [
    "gpus = tf.config.list_physical_devices(\"GPU\")\n",
    "print(gpus)\n",
    "\n",
    "os.environ[\"CUDA_VISIBLE_DEVICES\"] = \"0\"\n",
    "tf.config.optimizer.set_experimental_options({\"auto_mixed_precision\" : True})\n",
    "print(\"Mixed precision available\")"
   ]
  },
  {
   "cell_type": "code",
   "execution_count": 15,
   "metadata": {},
   "outputs": [
    {
     "name": "stdout",
     "output_type": "stream",
     "text": [
      "Model: \"functional_1\"\n",
      "_________________________________________________________________\n",
      "Layer (type)                 Output Shape              Param #   \n",
      "=================================================================\n",
      "input_1 (InputLayer)         [(None, 224, 224, 3)]     0         \n",
      "_________________________________________________________________\n",
      "densenet121 (Functional)     (None, 1024)              7037504   \n",
      "_________________________________________________________________\n",
      "dropout (Dropout)            (None, 1024)              0         \n",
      "_________________________________________________________________\n",
      "predictions (Dense)          (None, 1)                 1025      \n",
      "=================================================================\n",
      "Total params: 7,038,529\n",
      "Trainable params: 6,954,881\n",
      "Non-trainable params: 83,648\n",
      "_________________________________________________________________\n",
      "None\n"
     ]
    }
   ],
   "source": [
    "# load model\n",
    "with tf.device(\"/device:GPU:0\") : \n",
    "    chexnet = tf.keras.models.load_model(\"/media/HHD_2TB/baurai/chexnet/saved_models/my_chexnet_model\")\n",
    "    print(chexnet.summary())"
   ]
  },
  {
   "cell_type": "code",
   "execution_count": 16,
   "metadata": {},
   "outputs": [
    {
     "name": "stdout",
     "output_type": "stream",
     "text": [
      "1067/1067 [==============================] - 1992s 2s/step\n"
     ]
    }
   ],
   "source": [
    "with tf.device(\"/device:GPU:0\") :\n",
    "    y_pred = chexnet.predict(val, config[\"STEPS_VAL\"], verbose = True)"
   ]
  },
  {
   "cell_type": "code",
   "execution_count": 19,
   "metadata": {},
   "outputs": [
    {
     "data": {
      "text/plain": [
       "list"
      ]
     },
     "execution_count": 19,
     "metadata": {},
     "output_type": "execute_result"
    }
   ],
   "source": [
    "y_true = val.classes\n",
    "type(y_true)"
   ]
  },
  {
   "cell_type": "code",
   "execution_count": 20,
   "metadata": {},
   "outputs": [],
   "source": [
    "predicted_labels = []\n",
    "for prob in y_pred : \n",
    "    if prob >= 0.5 : \n",
    "        predicted_labels.append(1)\n",
    "    else:\n",
    "        predicted_labels.append(0)"
   ]
  },
  {
   "cell_type": "code",
   "execution_count": 21,
   "metadata": {},
   "outputs": [
    {
     "name": "stdout",
     "output_type": "stream",
     "text": [
      "[[30149   576]\n",
      " [ 2783   607]]\n"
     ]
    },
    {
     "data": {
      "text/plain": [
       "[Text(0, 0.5, 'Others'), Text(0, 1.5, 'Nodular')]"
      ]
     },
     "execution_count": 21,
     "metadata": {},
     "output_type": "execute_result"
    },
    {
     "data": {
      "image/png": "[encoded data removed]",
      "text/plain": [
       "<Figure size 864x576 with 2 Axes>"
      ]
     },
     "metadata": {
      "needs_background": "light"
     },
     "output_type": "display_data"
    }
   ],
   "source": [
    "cm = confusion_matrix(y_true, predicted_labels)\n",
    "print(cm)\n",
    "\n",
    "plt.figure(figsize = (12, 8))\n",
    "ax= plt.subplot()\n",
    "sns.heatmap(cm, annot=True, ax = ax, fmt = \"d\"); #annot=True to annotate cells\n",
    "\n",
    "# labels, title and ticks\n",
    "ax.set_xlabel('Predicted labels', fontsize = 16)\n",
    "ax.set_ylabel('True labels', fontsize = 16) \n",
    "ax.set_title('Confusion Matrix', fontsize = 18) \n",
    "ax.xaxis.set_ticklabels(['Others', 'Nodular'])\n",
    "ax.yaxis.set_ticklabels(['Others', 'Nodular'])"
   ]
  },
  {
   "cell_type": "code",
   "execution_count": 22,
   "metadata": {},
   "outputs": [
    {
     "name": "stdout",
     "output_type": "stream",
     "text": [
      "f1 score =  0.2654712442597857\n",
      "precision =  0.5131022823330516\n",
      "Recall =  0.17905604719764012\n"
     ]
    }
   ],
   "source": [
    "f1 = f1_score(y_true, predicted_labels, average = \"binary\")\n",
    "precision = precision_score(y_true, predicted_labels, average = \"binary\")\n",
    "recall = recall_score(y_true, predicted_labels, average = \"binary\")\n",
    "print(\"f1 score = \", f1)\n",
    "print(\"precision = \", precision)\n",
    "print(\"Recall = \", recall)"
   ]
  },
  {
   "cell_type": "code",
   "execution_count": null,
   "metadata": {},
   "outputs": [],
   "source": []
  }
 ],
 "metadata": {
  "kernelspec": {
   "display_name": "Python 3",
   "language": "python",
   "name": "python3"
  },
  "language_info": {
   "codemirror_mode": {
    "name": "ipython",
    "version": 3
   },
   "file_extension": ".py",
   "mimetype": "text/x-python",
   "name": "python",
   "nbconvert_exporter": "python",
   "pygments_lexer": "ipython3",
   "version": "3.6.9"
  }
 },
 "nbformat": 4,
 "nbformat_minor": 4
}
