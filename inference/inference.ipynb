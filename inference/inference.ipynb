{
 "cells": [
  {
   "cell_type": "code",
   "execution_count": 1,
   "metadata": {},
   "outputs": [
    {
     "name": "stdout",
     "output_type": "stream",
     "text": [
      "/media/HHD_2TB/baurai/aditya_vm/bin/python3.6\n"
     ]
    }
   ],
   "source": [
    "import sys\n",
    "print(sys.executable)"
   ]
  },
  {
   "cell_type": "code",
   "execution_count": 35,
   "metadata": {},
   "outputs": [
    {
     "name": "stdout",
     "output_type": "stream",
     "text": [
      "Python version used =  3.6.9 (default, Oct  9 2020, 08:58:16) \n",
      "[GCC 6.3.0 20170516]\n",
      "Numpy version =  1.18.5\n",
      "Tensorflow version =  2.3.1\n"
     ]
    }
   ],
   "source": [
    "import os\n",
    "import glob\n",
    "\n",
    "import numpy as np\n",
    "import pandas as pd\n",
    "import matplotlib.pyplot as plt\n",
    "%matplotlib inline\n",
    "import seaborn as sns\n",
    "from sklearn.metrics import  confusion_matrix, f1_score, precision_score, recall_score, classification_report\n",
    "import tensorflow as tf\n",
    "\n",
    "print(\"Python version used = \", sys.version)\n",
    "print(\"Numpy version = \", np.__version__)\n",
    "print(\"Tensorflow version = \", tf.__version__)"
   ]
  },
  {
   "cell_type": "code",
   "execution_count": 3,
   "metadata": {},
   "outputs": [],
   "source": [
    "config = {\n",
    "    \"IMAGE_SIZE\" : (512, 512),\n",
    "    \"BATCH_SIZE\" : 32,\n",
    "    \"EPOCHS\" : 32\n",
    "}\n",
    "\n",
    "DATASET_PATH = \"/media/HHD2/NIH/tflow_obj_detection/images/\""
   ]
  },
  {
   "cell_type": "code",
   "execution_count": 4,
   "metadata": {},
   "outputs": [
    {
     "name": "stdout",
     "output_type": "stream",
     "text": [
      "Shape =  (79988, 3)\n"
     ]
    }
   ],
   "source": [
    "metadata = pd.DataFrame(pd.read_csv(\"tfrec_v2/metadata_bin_clf_tfrec.csv\"))\n",
    "\n",
    "print(\"Shape = \", metadata.shape)"
   ]
  },
  {
   "cell_type": "code",
   "execution_count": 5,
   "metadata": {},
   "outputs": [
    {
     "data": {
      "text/html": [
       "<div>\n",
       "<style scoped>\n",
       "    .dataframe tbody tr th:only-of-type {\n",
       "        vertical-align: middle;\n",
       "    }\n",
       "\n",
       "    .dataframe tbody tr th {\n",
       "        vertical-align: top;\n",
       "    }\n",
       "\n",
       "    .dataframe thead th {\n",
       "        text-align: right;\n",
       "    }\n",
       "</style>\n",
       "<table border=\"1\" class=\"dataframe\">\n",
       "  <thead>\n",
       "    <tr style=\"text-align: right;\">\n",
       "      <th></th>\n",
       "      <th>image_name</th>\n",
       "      <th>label</th>\n",
       "      <th>subset</th>\n",
       "    </tr>\n",
       "  </thead>\n",
       "  <tbody>\n",
       "    <tr>\n",
       "      <th>0</th>\n",
       "      <td>00012907_003.png</td>\n",
       "      <td>0</td>\n",
       "      <td>training</td>\n",
       "    </tr>\n",
       "    <tr>\n",
       "      <th>1</th>\n",
       "      <td>00014264_002.png</td>\n",
       "      <td>0</td>\n",
       "      <td>training</td>\n",
       "    </tr>\n",
       "    <tr>\n",
       "      <th>2</th>\n",
       "      <td>00001650_007.png</td>\n",
       "      <td>0</td>\n",
       "      <td>training</td>\n",
       "    </tr>\n",
       "    <tr>\n",
       "      <th>3</th>\n",
       "      <td>00013894_000_0.png</td>\n",
       "      <td>1</td>\n",
       "      <td>training</td>\n",
       "    </tr>\n",
       "    <tr>\n",
       "      <th>4</th>\n",
       "      <td>00013894_000_1.png</td>\n",
       "      <td>1</td>\n",
       "      <td>training</td>\n",
       "    </tr>\n",
       "  </tbody>\n",
       "</table>\n",
       "</div>"
      ],
      "text/plain": [
       "           image_name  label    subset\n",
       "0    00012907_003.png      0  training\n",
       "1    00014264_002.png      0  training\n",
       "2    00001650_007.png      0  training\n",
       "3  00013894_000_0.png      1  training\n",
       "4  00013894_000_1.png      1  training"
      ]
     },
     "execution_count": 5,
     "metadata": {},
     "output_type": "execute_result"
    }
   ],
   "source": [
    "metadata.head()"
   ]
  },
  {
   "cell_type": "code",
   "execution_count": 6,
   "metadata": {},
   "outputs": [
    {
     "name": "stdout",
     "output_type": "stream",
     "text": [
      "Validation data shape =  (10004, 3)\n",
      "Validation steps =  313\n"
     ]
    },
    {
     "data": {
      "text/html": [
       "<div>\n",
       "<style scoped>\n",
       "    .dataframe tbody tr th:only-of-type {\n",
       "        vertical-align: middle;\n",
       "    }\n",
       "\n",
       "    .dataframe tbody tr th {\n",
       "        vertical-align: top;\n",
       "    }\n",
       "\n",
       "    .dataframe thead th {\n",
       "        text-align: right;\n",
       "    }\n",
       "</style>\n",
       "<table border=\"1\" class=\"dataframe\">\n",
       "  <thead>\n",
       "    <tr style=\"text-align: right;\">\n",
       "      <th></th>\n",
       "      <th>image_name</th>\n",
       "      <th>label</th>\n",
       "      <th>subset</th>\n",
       "    </tr>\n",
       "  </thead>\n",
       "  <tbody>\n",
       "    <tr>\n",
       "      <th>59980</th>\n",
       "      <td>00005564_014.png</td>\n",
       "      <td>0</td>\n",
       "      <td>validation</td>\n",
       "    </tr>\n",
       "    <tr>\n",
       "      <th>59981</th>\n",
       "      <td>00000488_002.png</td>\n",
       "      <td>0</td>\n",
       "      <td>validation</td>\n",
       "    </tr>\n",
       "    <tr>\n",
       "      <th>59982</th>\n",
       "      <td>00014792_002.png</td>\n",
       "      <td>1</td>\n",
       "      <td>validation</td>\n",
       "    </tr>\n",
       "    <tr>\n",
       "      <th>59983</th>\n",
       "      <td>00014274_008.png</td>\n",
       "      <td>1</td>\n",
       "      <td>validation</td>\n",
       "    </tr>\n",
       "    <tr>\n",
       "      <th>59984</th>\n",
       "      <td>00002874_000.png</td>\n",
       "      <td>0</td>\n",
       "      <td>validation</td>\n",
       "    </tr>\n",
       "  </tbody>\n",
       "</table>\n",
       "</div>"
      ],
      "text/plain": [
       "             image_name  label      subset\n",
       "59980  00005564_014.png      0  validation\n",
       "59981  00000488_002.png      0  validation\n",
       "59982  00014792_002.png      1  validation\n",
       "59983  00014274_008.png      1  validation\n",
       "59984  00002874_000.png      0  validation"
      ]
     },
     "execution_count": 6,
     "metadata": {},
     "output_type": "execute_result"
    }
   ],
   "source": [
    "val = metadata[metadata[\"subset\"] == \"validation\"]\n",
    "STEPS_VAL = int(np.ceil(val.shape[0] /config[\"BATCH_SIZE\"]))\n",
    "\n",
    "\n",
    "print(\"Validation data shape = \", val.shape)\n",
    "print(\"Validation steps = \", STEPS_VAL)\n",
    "val.head()"
   ]
  },
  {
   "cell_type": "code",
   "execution_count": 7,
   "metadata": {},
   "outputs": [
    {
     "name": "stdout",
     "output_type": "stream",
     "text": [
      "Healthy cases in validation set =  9054\n",
      "Nodular cases in validation set =  950\n"
     ]
    }
   ],
   "source": [
    "healthy_cases = len(val[val[\"label\"] == 0])\n",
    "nodular_cases = len(val[val[\"label\"] == 1])\n",
    "\n",
    "print(\"Healthy cases in validation set = \", healthy_cases)\n",
    "print(\"Nodular cases in validation set = \", nodular_cases)"
   ]
  },
  {
   "cell_type": "code",
   "execution_count": 8,
   "metadata": {},
   "outputs": [
    {
     "name": "stdout",
     "output_type": "stream",
     "text": [
      "Testing data shape =  (10004, 3)\n"
     ]
    },
    {
     "data": {
      "text/html": [
       "<div>\n",
       "<style scoped>\n",
       "    .dataframe tbody tr th:only-of-type {\n",
       "        vertical-align: middle;\n",
       "    }\n",
       "\n",
       "    .dataframe tbody tr th {\n",
       "        vertical-align: top;\n",
       "    }\n",
       "\n",
       "    .dataframe thead th {\n",
       "        text-align: right;\n",
       "    }\n",
       "</style>\n",
       "<table border=\"1\" class=\"dataframe\">\n",
       "  <thead>\n",
       "    <tr style=\"text-align: right;\">\n",
       "      <th></th>\n",
       "      <th>image_name</th>\n",
       "      <th>label</th>\n",
       "      <th>subset</th>\n",
       "    </tr>\n",
       "  </thead>\n",
       "  <tbody>\n",
       "    <tr>\n",
       "      <th>69984</th>\n",
       "      <td>00008490_001.png</td>\n",
       "      <td>0</td>\n",
       "      <td>testing</td>\n",
       "    </tr>\n",
       "    <tr>\n",
       "      <th>69985</th>\n",
       "      <td>00014877_020.png</td>\n",
       "      <td>0</td>\n",
       "      <td>testing</td>\n",
       "    </tr>\n",
       "    <tr>\n",
       "      <th>69986</th>\n",
       "      <td>00025686_003.png</td>\n",
       "      <td>0</td>\n",
       "      <td>testing</td>\n",
       "    </tr>\n",
       "    <tr>\n",
       "      <th>69987</th>\n",
       "      <td>00007060_016.png</td>\n",
       "      <td>0</td>\n",
       "      <td>testing</td>\n",
       "    </tr>\n",
       "    <tr>\n",
       "      <th>69988</th>\n",
       "      <td>00012364_015.png</td>\n",
       "      <td>0</td>\n",
       "      <td>testing</td>\n",
       "    </tr>\n",
       "  </tbody>\n",
       "</table>\n",
       "</div>"
      ],
      "text/plain": [
       "             image_name  label   subset\n",
       "69984  00008490_001.png      0  testing\n",
       "69985  00014877_020.png      0  testing\n",
       "69986  00025686_003.png      0  testing\n",
       "69987  00007060_016.png      0  testing\n",
       "69988  00012364_015.png      0  testing"
      ]
     },
     "execution_count": 8,
     "metadata": {},
     "output_type": "execute_result"
    }
   ],
   "source": [
    "test = metadata[metadata[\"subset\"] == \"testing\"]\n",
    "\n",
    "print(\"Testing data shape = \", test.shape)\n",
    "test.head()"
   ]
  },
  {
   "cell_type": "code",
   "execution_count": 9,
   "metadata": {},
   "outputs": [
    {
     "name": "stdout",
     "output_type": "stream",
     "text": [
      "Healthy cases in testing set =  9055\n",
      "Nodular cases in testing set =  949\n"
     ]
    }
   ],
   "source": [
    "healthy_cases = len(test[test[\"label\"] == 0])\n",
    "nodular_cases = len(test[test[\"label\"] == 1])\n",
    "\n",
    "print(\"Healthy cases in testing set = \", healthy_cases)\n",
    "print(\"Nodular cases in testing set = \", nodular_cases)"
   ]
  },
  {
   "cell_type": "code",
   "execution_count": 10,
   "metadata": {},
   "outputs": [],
   "source": [
    "val_images_path = [] \n",
    "val_images_label = []\n",
    "\n",
    "for (val_image, val_label) in zip(val.image_name, val.label) : \n",
    "    image_path = DATASET_PATH + val_image\n",
    "    val_images_path.append(image_path)\n",
    "    val_images_label.append(str(val_label))\n",
    "\n",
    "        \n",
    "test_images_path = []\n",
    "test_images_label = []\n",
    "for (test_image, test_label) in zip(test.image_name, test.label) : \n",
    "    image_path = DATASET_PATH + test_image\n",
    "    test_images_path.append(image_path)\n",
    "    test_images_label.append(str(test_label))"
   ]
  },
  {
   "cell_type": "code",
   "execution_count": 11,
   "metadata": {},
   "outputs": [
    {
     "name": "stdout",
     "output_type": "stream",
     "text": [
      "Shape =  (10004, 2)\n"
     ]
    },
    {
     "data": {
      "text/html": [
       "<div>\n",
       "<style scoped>\n",
       "    .dataframe tbody tr th:only-of-type {\n",
       "        vertical-align: middle;\n",
       "    }\n",
       "\n",
       "    .dataframe tbody tr th {\n",
       "        vertical-align: top;\n",
       "    }\n",
       "\n",
       "    .dataframe thead th {\n",
       "        text-align: right;\n",
       "    }\n",
       "</style>\n",
       "<table border=\"1\" class=\"dataframe\">\n",
       "  <thead>\n",
       "    <tr style=\"text-align: right;\">\n",
       "      <th></th>\n",
       "      <th>val_image_path</th>\n",
       "      <th>label</th>\n",
       "    </tr>\n",
       "  </thead>\n",
       "  <tbody>\n",
       "    <tr>\n",
       "      <th>0</th>\n",
       "      <td>/media/HHD2/NIH/tflow_obj_detection/images/000...</td>\n",
       "      <td>0</td>\n",
       "    </tr>\n",
       "    <tr>\n",
       "      <th>1</th>\n",
       "      <td>/media/HHD2/NIH/tflow_obj_detection/images/000...</td>\n",
       "      <td>0</td>\n",
       "    </tr>\n",
       "    <tr>\n",
       "      <th>2</th>\n",
       "      <td>/media/HHD2/NIH/tflow_obj_detection/images/000...</td>\n",
       "      <td>1</td>\n",
       "    </tr>\n",
       "    <tr>\n",
       "      <th>3</th>\n",
       "      <td>/media/HHD2/NIH/tflow_obj_detection/images/000...</td>\n",
       "      <td>1</td>\n",
       "    </tr>\n",
       "    <tr>\n",
       "      <th>4</th>\n",
       "      <td>/media/HHD2/NIH/tflow_obj_detection/images/000...</td>\n",
       "      <td>0</td>\n",
       "    </tr>\n",
       "  </tbody>\n",
       "</table>\n",
       "</div>"
      ],
      "text/plain": [
       "                                      val_image_path label\n",
       "0  /media/HHD2/NIH/tflow_obj_detection/images/000...     0\n",
       "1  /media/HHD2/NIH/tflow_obj_detection/images/000...     0\n",
       "2  /media/HHD2/NIH/tflow_obj_detection/images/000...     1\n",
       "3  /media/HHD2/NIH/tflow_obj_detection/images/000...     1\n",
       "4  /media/HHD2/NIH/tflow_obj_detection/images/000...     0"
      ]
     },
     "execution_count": 11,
     "metadata": {},
     "output_type": "execute_result"
    }
   ],
   "source": [
    "data_tuples = list(zip(val_images_path, val_images_label))\n",
    "dataframe_val = pd.DataFrame(data_tuples, columns = [\"val_image_path\", \"label\"])\n",
    "\n",
    "print(\"Shape = \", dataframe_val.shape)\n",
    "dataframe_val.head()"
   ]
  },
  {
   "cell_type": "code",
   "execution_count": 12,
   "metadata": {},
   "outputs": [
    {
     "name": "stdout",
     "output_type": "stream",
     "text": [
      "Shape =  (10004, 2)\n"
     ]
    },
    {
     "data": {
      "text/html": [
       "<div>\n",
       "<style scoped>\n",
       "    .dataframe tbody tr th:only-of-type {\n",
       "        vertical-align: middle;\n",
       "    }\n",
       "\n",
       "    .dataframe tbody tr th {\n",
       "        vertical-align: top;\n",
       "    }\n",
       "\n",
       "    .dataframe thead th {\n",
       "        text-align: right;\n",
       "    }\n",
       "</style>\n",
       "<table border=\"1\" class=\"dataframe\">\n",
       "  <thead>\n",
       "    <tr style=\"text-align: right;\">\n",
       "      <th></th>\n",
       "      <th>test_image_path</th>\n",
       "      <th>label</th>\n",
       "    </tr>\n",
       "  </thead>\n",
       "  <tbody>\n",
       "    <tr>\n",
       "      <th>0</th>\n",
       "      <td>/media/HHD2/NIH/tflow_obj_detection/images/000...</td>\n",
       "      <td>0</td>\n",
       "    </tr>\n",
       "    <tr>\n",
       "      <th>1</th>\n",
       "      <td>/media/HHD2/NIH/tflow_obj_detection/images/000...</td>\n",
       "      <td>0</td>\n",
       "    </tr>\n",
       "    <tr>\n",
       "      <th>2</th>\n",
       "      <td>/media/HHD2/NIH/tflow_obj_detection/images/000...</td>\n",
       "      <td>0</td>\n",
       "    </tr>\n",
       "    <tr>\n",
       "      <th>3</th>\n",
       "      <td>/media/HHD2/NIH/tflow_obj_detection/images/000...</td>\n",
       "      <td>0</td>\n",
       "    </tr>\n",
       "    <tr>\n",
       "      <th>4</th>\n",
       "      <td>/media/HHD2/NIH/tflow_obj_detection/images/000...</td>\n",
       "      <td>0</td>\n",
       "    </tr>\n",
       "  </tbody>\n",
       "</table>\n",
       "</div>"
      ],
      "text/plain": [
       "                                     test_image_path label\n",
       "0  /media/HHD2/NIH/tflow_obj_detection/images/000...     0\n",
       "1  /media/HHD2/NIH/tflow_obj_detection/images/000...     0\n",
       "2  /media/HHD2/NIH/tflow_obj_detection/images/000...     0\n",
       "3  /media/HHD2/NIH/tflow_obj_detection/images/000...     0\n",
       "4  /media/HHD2/NIH/tflow_obj_detection/images/000...     0"
      ]
     },
     "execution_count": 12,
     "metadata": {},
     "output_type": "execute_result"
    }
   ],
   "source": [
    "data_tuples = list(zip(test_images_path, test_images_label))\n",
    "dataframe_test = pd.DataFrame(data_tuples, columns = [\"test_image_path\", \"label\"])\n",
    "\n",
    "print(\"Shape = \", dataframe_test.shape)\n",
    "dataframe_test.head()"
   ]
  },
  {
   "cell_type": "code",
   "execution_count": 13,
   "metadata": {},
   "outputs": [
    {
     "name": "stdout",
     "output_type": "stream",
     "text": [
      "Found 10004 validated image filenames belonging to 2 classes.\n",
      "Found 10004 validated image filenames belonging to 2 classes.\n"
     ]
    }
   ],
   "source": [
    "datagen = tf.keras.preprocessing.image.ImageDataGenerator(rescale = 1/255.0, preprocessing_function = None)\n",
    "val = datagen.flow_from_dataframe(dataframe = dataframe_val, x_col = \"val_image_path\", y_col = \"label\",\n",
    "                                  batch_size = config[\"BATCH_SIZE\"], class_mode = \"binary\",\n",
    "                                  target_size = config[\"IMAGE_SIZE\"], shuffle = False)\n",
    "test = datagen.flow_from_dataframe(dataframe = dataframe_test, x_col = \"test_image_path\", y_col = \"label\",\n",
    "                                  batch_size = config[\"BATCH_SIZE\"], class_mode = \"binary\",\n",
    "                                  target_size = config[\"IMAGE_SIZE\"], shuffle = False)"
   ]
  },
  {
   "cell_type": "code",
   "execution_count": 14,
   "metadata": {},
   "outputs": [
    {
     "name": "stdout",
     "output_type": "stream",
     "text": [
      "[PhysicalDevice(name='/physical_device:GPU:0', device_type='GPU')]\n",
      "Mixed precision available\n"
     ]
    }
   ],
   "source": [
    "gpus = tf.config.list_physical_devices(\"GPU\")\n",
    "print(gpus)\n",
    "\n",
    "os.environ[\"CUDA_VISIBLE_DEVICES\"] = \"0\"\n",
    "tf.config.optimizer.set_experimental_options({\"auto_mixed_precision\" : True})\n",
    "print(\"Mixed precision available\")"
   ]
  },
  {
   "cell_type": "code",
   "execution_count": 15,
   "metadata": {},
   "outputs": [
    {
     "name": "stdout",
     "output_type": "stream",
     "text": [
      "Model: \"sequential_1\"\n",
      "_________________________________________________________________\n",
      "Layer (type)                 Output Shape              Param #   \n",
      "=================================================================\n",
      "resnet50v2 (Functional)      (None, 2048)              23564800  \n",
      "_________________________________________________________________\n",
      "batch_normalization_8 (Batch (None, 2048)              8192      \n",
      "_________________________________________________________________\n",
      "dense_8 (Dense)              (None, 256)               524800    \n",
      "_________________________________________________________________\n",
      "dropout_7 (Dropout)          (None, 256)               0         \n",
      "_________________________________________________________________\n",
      "batch_normalization_9 (Batch (None, 256)               1024      \n",
      "_________________________________________________________________\n",
      "dense_9 (Dense)              (None, 256)               66048     \n",
      "_________________________________________________________________\n",
      "dropout_8 (Dropout)          (None, 256)               0         \n",
      "_________________________________________________________________\n",
      "batch_normalization_10 (Batc (None, 256)               1024      \n",
      "_________________________________________________________________\n",
      "dense_10 (Dense)             (None, 128)               33024     \n",
      "_________________________________________________________________\n",
      "dropout_9 (Dropout)          (None, 128)               0         \n",
      "_________________________________________________________________\n",
      "batch_normalization_11 (Batc (None, 128)               512       \n",
      "_________________________________________________________________\n",
      "dense_11 (Dense)             (None, 128)               16640     \n",
      "_________________________________________________________________\n",
      "dropout_10 (Dropout)         (None, 128)               0         \n",
      "_________________________________________________________________\n",
      "batch_normalization_12 (Batc (None, 128)               512       \n",
      "_________________________________________________________________\n",
      "dense_12 (Dense)             (None, 60)                7800      \n",
      "_________________________________________________________________\n",
      "dropout_11 (Dropout)         (None, 60)                0         \n",
      "_________________________________________________________________\n",
      "batch_normalization_13 (Batc (None, 60)                240       \n",
      "_________________________________________________________________\n",
      "dense_13 (Dense)             (None, 30)                1860      \n",
      "_________________________________________________________________\n",
      "dropout_12 (Dropout)         (None, 30)                0         \n",
      "_________________________________________________________________\n",
      "batch_normalization_14 (Batc (None, 30)                120       \n",
      "_________________________________________________________________\n",
      "dense_14 (Dense)             (None, 10)                320       \n",
      "_________________________________________________________________\n",
      "dropout_13 (Dropout)         (None, 10)                0         \n",
      "_________________________________________________________________\n",
      "batch_normalization_15 (Batc (None, 10)                40        \n",
      "_________________________________________________________________\n",
      "dense_15 (Dense)             (None, 1)                 11        \n",
      "=================================================================\n",
      "Total params: 24,226,967\n",
      "Trainable params: 24,175,695\n",
      "Non-trainable params: 51,272\n",
      "_________________________________________________________________\n"
     ]
    }
   ],
   "source": [
    "with tf.device(\"/device:GPU:0\") : \n",
    "    model = tf.keras.models.load_model(\"saved_models/bin_clf/resnet50v2_model\")\n",
    "    model.summary()"
   ]
  },
  {
   "cell_type": "code",
   "execution_count": 16,
   "metadata": {},
   "outputs": [
    {
     "name": "stdout",
     "output_type": "stream",
     "text": [
      "WARNING:tensorflow:From <ipython-input-16-c7c285335d40>:2: Model.predict_generator (from tensorflow.python.keras.engine.training) is deprecated and will be removed in a future version.\n",
      "Instructions for updating:\n",
      "Please use Model.predict, which supports generators.\n",
      "  1/313 [..............................] - ETA: 0sWARNING:tensorflow:Callbacks method `on_predict_batch_end` is slow compared to the batch time (batch time: 0.0335s vs `on_predict_batch_end` time: 0.0512s). Check your callbacks.\n",
      "313/313 [==============================] - 190s 608ms/step\n"
     ]
    }
   ],
   "source": [
    "with tf.device(\"/device:GPU:0\") :\n",
    "    y_pred = model.predict_generator(val, STEPS_VAL, verbose = True)"
   ]
  },
  {
   "cell_type": "code",
   "execution_count": 20,
   "metadata": {},
   "outputs": [
    {
     "data": {
      "text/plain": [
       "list"
      ]
     },
     "execution_count": 20,
     "metadata": {},
     "output_type": "execute_result"
    }
   ],
   "source": [
    "y_true = val.classes\n",
    "type(y_true)"
   ]
  },
  {
   "cell_type": "code",
   "execution_count": 21,
   "metadata": {},
   "outputs": [],
   "source": [
    "predicted_labels = []\n",
    "for prob in y_pred : \n",
    "    if prob >= 0.5 : \n",
    "        predicted_labels.append(1)\n",
    "    else:\n",
    "        predicted_labels.append(0)"
   ]
  },
  {
   "cell_type": "code",
   "execution_count": 28,
   "metadata": {},
   "outputs": [
    {
     "name": "stdout",
     "output_type": "stream",
     "text": [
      "[[8706  348]\n",
      " [ 807  143]]\n"
     ]
    },
    {
     "data": {
      "image/png": "[encoded data removed]",
      "text/plain": [
       "<Figure size 864x576 with 2 Axes>"
      ]
     },
     "metadata": {
      "needs_background": "light"
     },
     "output_type": "display_data"
    }
   ],
   "source": [
    "cm = confusion_matrix(y_true, predicted_labels)\n",
    "print(cm)\n",
    "\n",
    "plt.figure(figsize = (12, 8))\n",
    "ax= plt.subplot()\n",
    "sns.heatmap(cm, annot=True, ax = ax, fmt = \"d\"); #annot=True to annotate cells\n",
    "\n",
    "# labels, title and ticks\n",
    "ax.set_xlabel('Predicted labels', fontsize = 16)\n",
    "ax.set_ylabel('True labels', fontsize = 16) \n",
    "ax.set_title('Confusion Matrix', fontsize = 18) \n",
    "ax.xaxis.set_ticklabels(['Healthy', 'Nodular'])\n",
    "ax.yaxis.set_ticklabels(['Healthy', 'Nodular']);"
   ]
  },
  {
   "cell_type": "code",
   "execution_count": 33,
   "metadata": {},
   "outputs": [
    {
     "name": "stdout",
     "output_type": "stream",
     "text": [
      "f1 score =  0.1984732824427481\n",
      "precision =  0.29124236252545826\n"
     ]
    }
   ],
   "source": [
    "f1 = f1_score(y_true, predicted_labels, average = \"binary\")\n",
    "precision = precision_score(y_true, predicted_labels, average = \"binary\")\n",
    "recall = recall_score(y_true, predicted_labels, average = \"binary\")\n",
    "print(\"f1 score = \", f1)\n",
    "print(\"precision = \", precision)\n",
    "print(\"Recall = \", recall)"
   ]
  },
  {
   "cell_type": "code",
   "execution_count": 38,
   "metadata": {},
   "outputs": [
    {
     "name": "stdout",
     "output_type": "stream",
     "text": [
      "              precision    recall  f1-score   support\n",
      "\n",
      "     Healthy       0.92      0.96      0.94      9054\n",
      "     Nodular       0.29      0.15      0.20       950\n",
      "\n",
      "    accuracy                           0.88     10004\n",
      "   macro avg       0.60      0.56      0.57     10004\n",
      "weighted avg       0.86      0.88      0.87     10004\n",
      "\n"
     ]
    }
   ],
   "source": [
    "print(classification_report(y_true, predicted_labels, labels = [0, 1], target_names = [\"Healthy\", \"Nodular\"]))"
   ]
  }
 ],
 "metadata": {
  "kernelspec": {
   "display_name": "Python 3",
   "language": "python",
   "name": "python3"
  },
  "language_info": {
   "codemirror_mode": {
    "name": "ipython",
    "version": 3
   },
   "file_extension": ".py",
   "mimetype": "text/x-python",
   "name": "python",
   "nbconvert_exporter": "python",
   "pygments_lexer": "ipython3",
   "version": "3.6.9"
  }
 },
 "nbformat": 4,
 "nbformat_minor": 4
}
